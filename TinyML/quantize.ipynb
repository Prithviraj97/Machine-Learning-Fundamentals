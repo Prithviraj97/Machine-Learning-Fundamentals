{
 "cells": [
  {
   "cell_type": "code",
   "execution_count": null,
   "metadata": {},
   "outputs": [],
   "source": [
    "# 2. Create a MobileNetV2 base model with reduced input size for Arduino compatibility\n",
    "def create_person_detection_model():\n",
    "    # Use MobileNetV2 as base model with smaller input size\n",
    "    base_model = MobileNetV2(\n",
    "        input_shape=(96, 96, 3),  # Smaller input size\n",
    "        include_top=False,\n",
    "        weights='imagenet'\n",
    "    )\n",
    "\n",
    "    # Freeze the base model layers\n",
    "    for layer in base_model.layers:\n",
    "        layer.trainable = False\n",
    "\n",
    "    # Add detection head\n",
    "    x = base_model.output\n",
    "    x = Conv2D(256, (3, 3), padding='same', activation='relu')(x)\n",
    "    x = Conv2D(4, (1, 1), padding='same')(x)  # 5 = [class, x, y, width, height]\n",
    "\n",
    "    # Reshape output for bounding box prediction\n",
    "    # shapes = tf.shape(base_model.input)\n",
    "    # output = Reshape((-1, 5))(x)  # Reshape to [batch, num_boxes, 5]\n",
    "    # output = Reshape((base_model.input_shape[1] * base_model.input_shape[2], 5))(x)  # Reshape to [batch, num_boxes, 5]\n",
    "    output_shape = (base_model.output_shape[1] * base_model.output_shape[2], 4)\n",
    "    output = Reshape(output_shape)(x)  # Reshape to [grid_cells, 5]\n",
    "\n",
    "    model = Model(inputs=base_model.input, outputs=output)\n",
    "\n",
    "    # #define pruning schedule\n",
    "    # pruning_schedule = tfmot.sparsity.keras.PolynomialDecay(\n",
    "    #     initial_sparsity=0.0,\n",
    "    #     final_sparsity=0.5,\n",
    "    #     begin_step=0,\n",
    "    #     end_step=1000)\n",
    "    \n",
    "    # #prune the entire model\n",
    "    # model = tfmot.sparsity.keras.prune_low_magnitude(model, pruning_schedule=pruning_schedule)\n",
    "    # Compile the model\n",
    "    model.compile(\n",
    "        optimizer=tf.keras.optimizers.Adam(learning_rate=0.001),\n",
    "        loss='mse',  # Mean squared error for bounding box regression\n",
    "        metrics=['accuracy']\n",
    "    )\n",
    "\n",
    "    return model"
   ]
  }
 ],
 "metadata": {
  "language_info": {
   "name": "python"
  }
 },
 "nbformat": 4,
 "nbformat_minor": 2
}
