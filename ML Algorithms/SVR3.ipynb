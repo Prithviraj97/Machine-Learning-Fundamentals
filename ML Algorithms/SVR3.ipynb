{
 "cells": [
  {
   "cell_type": "code",
   "execution_count": 4,
   "metadata": {},
   "outputs": [],
   "source": [
    "#We are repeating the SVR experiment with the same data but splitting the test and train data manually to ensure we only use the suggested data as test data.\n",
    "\n",
    "import pandas as pd\n",
    "import numpy as np\n",
    "from sklearn.model_selection import train_test_split\n",
    "from sklearn.preprocessing import StandardScaler\n",
    "from sklearn.svm import SVR\n",
    "from sklearn.metrics import mean_squared_error, r2_score\n",
    "import matplotlib.pyplot as plt\n",
    "\n",
    "#load the data\n",
    "filepath = r\"C:\\Users\\Admin\\Machine Learning Fundamentals\\CSV_files\\MLData2.xlsx\"\n",
    "df = pd.read_excel(filepath)\n",
    "\n",
    "#split the data into features variables and target variable\n",
    "df = df.drop(columns=['DA concentration'])\n",
    "X = df.drop(columns=['DA Concentration (uM)'])\n",
    "y = df['DA Concentration (uM)']\n",
    "\n",
    "#for our train test split we want to manually choose only part of data that was suggested\n",
    "test_indices = list(range(43,48))\n",
    "X_test = X.iloc[test_indices]\n",
    "y_test = y.iloc[test_indices]\n"
   ]
  },
  {
   "cell_type": "code",
   "execution_count": 5,
   "metadata": {},
   "outputs": [
    {
     "data": {
      "application/vnd.microsoft.datawrangler.viewer.v0+json": {
       "columns": [
        {
         "name": "index",
         "rawType": "int64",
         "type": "integer"
        },
        {
         "name": "AA Concentration (uM)",
         "rawType": "int64",
         "type": "integer"
        },
        {
         "name": "Peak Current (uA)",
         "rawType": "float64",
         "type": "float"
        },
        {
         "name": "Peak Potential (mV)",
         "rawType": "float64",
         "type": "float"
        },
        {
         "name": "Peak Area (uC)",
         "rawType": "float64",
         "type": "float"
        }
       ],
       "conversionMethod": "pd.DataFrame",
       "ref": "b228458d-6b6d-4d67-9ff8-f329bef3ca2b",
       "rows": [
        [
         "43",
         "0",
         "8.123",
         "60.585",
         "16.01"
        ],
        [
         "44",
         "300",
         "21.614",
         "174.853",
         "112.173"
        ],
        [
         "45",
         "50",
         "40.852",
         "167.246",
         "126.391"
        ],
        [
         "46",
         "400",
         "55.129",
         "230.827",
         "254.973"
        ],
        [
         "47",
         "300",
         "32.599",
         "143.477",
         "118.396"
        ]
       ],
       "shape": {
        "columns": 4,
        "rows": 5
       }
      },
      "text/html": [
       "<div>\n",
       "<style scoped>\n",
       "    .dataframe tbody tr th:only-of-type {\n",
       "        vertical-align: middle;\n",
       "    }\n",
       "\n",
       "    .dataframe tbody tr th {\n",
       "        vertical-align: top;\n",
       "    }\n",
       "\n",
       "    .dataframe thead th {\n",
       "        text-align: right;\n",
       "    }\n",
       "</style>\n",
       "<table border=\"1\" class=\"dataframe\">\n",
       "  <thead>\n",
       "    <tr style=\"text-align: right;\">\n",
       "      <th></th>\n",
       "      <th>AA Concentration (uM)</th>\n",
       "      <th>Peak Current (uA)</th>\n",
       "      <th>Peak Potential (mV)</th>\n",
       "      <th>Peak Area (uC)</th>\n",
       "    </tr>\n",
       "  </thead>\n",
       "  <tbody>\n",
       "    <tr>\n",
       "      <th>43</th>\n",
       "      <td>0</td>\n",
       "      <td>8.123</td>\n",
       "      <td>60.585</td>\n",
       "      <td>16.010</td>\n",
       "    </tr>\n",
       "    <tr>\n",
       "      <th>44</th>\n",
       "      <td>300</td>\n",
       "      <td>21.614</td>\n",
       "      <td>174.853</td>\n",
       "      <td>112.173</td>\n",
       "    </tr>\n",
       "    <tr>\n",
       "      <th>45</th>\n",
       "      <td>50</td>\n",
       "      <td>40.852</td>\n",
       "      <td>167.246</td>\n",
       "      <td>126.391</td>\n",
       "    </tr>\n",
       "    <tr>\n",
       "      <th>46</th>\n",
       "      <td>400</td>\n",
       "      <td>55.129</td>\n",
       "      <td>230.827</td>\n",
       "      <td>254.973</td>\n",
       "    </tr>\n",
       "    <tr>\n",
       "      <th>47</th>\n",
       "      <td>300</td>\n",
       "      <td>32.599</td>\n",
       "      <td>143.477</td>\n",
       "      <td>118.396</td>\n",
       "    </tr>\n",
       "  </tbody>\n",
       "</table>\n",
       "</div>"
      ],
      "text/plain": [
       "    AA Concentration (uM)  Peak Current (uA)  Peak Potential (mV)  \\\n",
       "43                      0              8.123               60.585   \n",
       "44                    300             21.614              174.853   \n",
       "45                     50             40.852              167.246   \n",
       "46                    400             55.129              230.827   \n",
       "47                    300             32.599              143.477   \n",
       "\n",
       "    Peak Area (uC)  \n",
       "43          16.010  \n",
       "44         112.173  \n",
       "45         126.391  \n",
       "46         254.973  \n",
       "47         118.396  "
      ]
     },
     "execution_count": 5,
     "metadata": {},
     "output_type": "execute_result"
    }
   ],
   "source": [
    "X_test.head()"
   ]
  },
  {
   "cell_type": "code",
   "execution_count": 6,
   "metadata": {},
   "outputs": [
    {
     "data": {
      "application/vnd.microsoft.datawrangler.viewer.v0+json": {
       "columns": [
        {
         "name": "index",
         "rawType": "int64",
         "type": "integer"
        },
        {
         "name": "AA Concentration (uM)",
         "rawType": "int64",
         "type": "integer"
        },
        {
         "name": "Peak Current (uA)",
         "rawType": "float64",
         "type": "float"
        },
        {
         "name": "Peak Potential (mV)",
         "rawType": "float64",
         "type": "float"
        },
        {
         "name": "Peak Area (uC)",
         "rawType": "float64",
         "type": "float"
        }
       ],
       "conversionMethod": "pd.DataFrame",
       "ref": "dc9322c8-657c-400e-a6be-12717cb28826",
       "rows": [
        [
         "0",
         "0",
         "0.0",
         "0.0",
         "0.0"
        ],
        [
         "1",
         "0",
         "2.333",
         "34.772",
         "3.916"
        ],
        [
         "2",
         "0",
         "3.09",
         "41.093",
         "5.268"
        ],
        [
         "3",
         "0",
         "5.199",
         "47.659",
         "8.317"
        ],
        [
         "4",
         "0",
         "17.519",
         "77.535",
         "37.677"
        ]
       ],
       "shape": {
        "columns": 4,
        "rows": 5
       }
      },
      "text/html": [
       "<div>\n",
       "<style scoped>\n",
       "    .dataframe tbody tr th:only-of-type {\n",
       "        vertical-align: middle;\n",
       "    }\n",
       "\n",
       "    .dataframe tbody tr th {\n",
       "        vertical-align: top;\n",
       "    }\n",
       "\n",
       "    .dataframe thead th {\n",
       "        text-align: right;\n",
       "    }\n",
       "</style>\n",
       "<table border=\"1\" class=\"dataframe\">\n",
       "  <thead>\n",
       "    <tr style=\"text-align: right;\">\n",
       "      <th></th>\n",
       "      <th>AA Concentration (uM)</th>\n",
       "      <th>Peak Current (uA)</th>\n",
       "      <th>Peak Potential (mV)</th>\n",
       "      <th>Peak Area (uC)</th>\n",
       "    </tr>\n",
       "  </thead>\n",
       "  <tbody>\n",
       "    <tr>\n",
       "      <th>0</th>\n",
       "      <td>0</td>\n",
       "      <td>0.000</td>\n",
       "      <td>0.000</td>\n",
       "      <td>0.000</td>\n",
       "    </tr>\n",
       "    <tr>\n",
       "      <th>1</th>\n",
       "      <td>0</td>\n",
       "      <td>2.333</td>\n",
       "      <td>34.772</td>\n",
       "      <td>3.916</td>\n",
       "    </tr>\n",
       "    <tr>\n",
       "      <th>2</th>\n",
       "      <td>0</td>\n",
       "      <td>3.090</td>\n",
       "      <td>41.093</td>\n",
       "      <td>5.268</td>\n",
       "    </tr>\n",
       "    <tr>\n",
       "      <th>3</th>\n",
       "      <td>0</td>\n",
       "      <td>5.199</td>\n",
       "      <td>47.659</td>\n",
       "      <td>8.317</td>\n",
       "    </tr>\n",
       "    <tr>\n",
       "      <th>4</th>\n",
       "      <td>0</td>\n",
       "      <td>17.519</td>\n",
       "      <td>77.535</td>\n",
       "      <td>37.677</td>\n",
       "    </tr>\n",
       "  </tbody>\n",
       "</table>\n",
       "</div>"
      ],
      "text/plain": [
       "   AA Concentration (uM)  Peak Current (uA)  Peak Potential (mV)  \\\n",
       "0                      0              0.000                0.000   \n",
       "1                      0              2.333               34.772   \n",
       "2                      0              3.090               41.093   \n",
       "3                      0              5.199               47.659   \n",
       "4                      0             17.519               77.535   \n",
       "\n",
       "   Peak Area (uC)  \n",
       "0           0.000  \n",
       "1           3.916  \n",
       "2           5.268  \n",
       "3           8.317  \n",
       "4          37.677  "
      ]
     },
     "execution_count": 6,
     "metadata": {},
     "output_type": "execute_result"
    }
   ],
   "source": [
    "#create a training set out of all remaining data\n",
    "X_train = X.drop(test_indices)\n",
    "y_train = y.drop(test_indices)\n",
    "X_train.head()"
   ]
  },
  {
   "cell_type": "code",
   "execution_count": 7,
   "metadata": {},
   "outputs": [
    {
     "name": "stdout",
     "output_type": "stream",
     "text": [
      "Mean Squared Error: 2464.8462\n",
      "R^2 Score: 0.4642\n"
     ]
    }
   ],
   "source": [
    "#Training and Testing Part using Scikit-Learn\n",
    "# Standarize the features\n",
    "scaler = StandardScaler()\n",
    "X_train_scaled = scaler.fit_transform(X_train)\n",
    "X_test_scaled = scaler.transform(X_test)\n",
    "\n",
    "# Initialize and train the SVR model\n",
    "svr_model = SVR(kernel='rbf', C=100, gamma='auto')\n",
    "svr_model.fit(X_train_scaled, y_train)\n",
    "\n",
    "# Make predictions\n",
    "y_pred = svr_model.predict(X_test_scaled)\n",
    "\n",
    "# Calculate performance metrics\n",
    "mse = mean_squared_error(y_test, y_pred)\n",
    "r2 = r2_score(y_test, y_pred)\n",
    "\n",
    "print(f\"Mean Squared Error: {mse:.4f}\")\n",
    "print(f\"R^2 Score: {r2:.4f}\")"
   ]
  },
  {
   "cell_type": "code",
   "execution_count": null,
   "metadata": {},
   "outputs": [
    {
     "name": "stdout",
     "output_type": "stream",
     "text": [
      "Mean Squared Error: 16814.7054\n",
      "R^2 Score: -2.6554\n"
     ]
    }
   ],
   "source": [
    "# Initialize and train the SVR model with different hyperparameters\n",
    "svr_model2 = SVR(kernel='rbf', C=100, gamma='auto', epsilon=1.0)\n",
    "svr_model2.fit(X_train_scaled, y_train)\n",
    "\n",
    "# Make predictions\n",
    "y_pred = svr_model2.predict(X_test_scaled)\n",
    "\n",
    "# Calculate performance metrics\n",
    "mse = mean_squared_error(y_test, y_pred)\n",
    "r2 = r2_score(y_test, y_pred)\n",
    "\n",
    "print(f\"Mean Squared Error: {mse:.4f}\")\n",
    "print(f\"R^2 Score: {r2:.4f}\")"
   ]
  },
  {
   "cell_type": "code",
   "execution_count": 8,
   "metadata": {},
   "outputs": [
    {
     "data": {
      "image/png": "[encoded data removed]",
      "text/plain": [
       "<Figure size 600x500 with 1 Axes>"
      ]
     },
     "metadata": {},
     "output_type": "display_data"
    }
   ],
   "source": [
    "# Plot actual vs predicted values\n",
    "plt.figure(figsize=(6,5))\n",
    "plt.scatter(y_test, y_pred, color='blue', alpha=0.5)\n",
    "plt.plot([y_test.min(), y_test.max()], [y_test.min(), y_test.max()], 'r--', lw=2)\n",
    "plt.xlabel('Actual DA Concentration')\n",
    "plt.ylabel('Predicted DA Concentration')\n",
    "plt.title('Actual vs Predicted DA Concentration')\n",
    "plt.tight_layout()\n",
    "plt.show()"
   ]
  },
  {
   "cell_type": "code",
   "execution_count": 10,
   "metadata": {},
   "outputs": [
    {
     "name": "stdout",
     "output_type": "stream",
     "text": [
      "Predicted DA Concentration: 122.2622\n"
     ]
    }
   ],
   "source": [
    "# Example of making a new prediction -- feature variables are given below in same format as the training data\n",
    "new_data = pd.DataFrame({\n",
    "    'AA Concentration (uM)': [600],\n",
    "    'Peak Current (uA)': [50.852],\n",
    "    'Peak Potential (mV)': [169.792],\n",
    "    'Peak Area (uC)': [374.676]\n",
    "})\n",
    "\n",
    "#standarize the new data\n",
    "new_data_scaled = scaler.transform(new_data)\n",
    "\n",
    "# let's make a prediction with given feature variables\n",
    "prediction = svr_model.predict(new_data_scaled)\n",
    "print(f\"Predicted DA Concentration: {prediction[0]:.4f}\")"
   ]
  },
  {
   "cell_type": "code",
   "execution_count": 14,
   "metadata": {},
   "outputs": [
    {
     "name": "stdout",
     "output_type": "stream",
     "text": [
      "Best parameters: {'C': 100, 'epsilon': 1.0, 'gamma': 'auto'}\n"
     ]
    }
   ],
   "source": [
    "from sklearn.model_selection import GridSearchCV\n",
    "\n",
    "param_grid = {\n",
    "    'C': [0.1, 1, 10, 100],\n",
    "    'gamma': ['scale', 'auto', 0.1, 1],\n",
    "    'epsilon': [0.1, 0.2, 0.5, 1.0]\n",
    "}\n",
    "\n",
    "grid_search = GridSearchCV(SVR(), param_grid, cv=5, scoring='neg_mean_squared_error')\n",
    "grid_search.fit(X_train_scaled, y_train)\n",
    "\n",
    "print(\"Best parameters:\", grid_search.best_params_)\n",
    "best_model = grid_search.best_estimator_"
   ]
  },
  {
   "cell_type": "code",
   "execution_count": 11,
   "metadata": {},
   "outputs": [
    {
     "data": {
      "image/png": "[encoded data removed]",
      "text/plain": [
       "<Figure size 640x480 with 1 Axes>"
      ]
     },
     "metadata": {},
     "output_type": "display_data"
    }
   ],
   "source": [
    "from sklearn.model_selection import learning_curve\n",
    "import matplotlib.pyplot as plt\n",
    "\n",
    "train_sizes, train_scores, val_scores = learning_curve(svr_model, X_train_scaled, y_train, cv=5)\n",
    "\n",
    "plt.plot(train_sizes, train_scores.mean(axis=1), label='Training Score')\n",
    "plt.plot(train_sizes, val_scores.mean(axis=1), label='Validation Score')\n",
    "plt.xlabel('Training examples')\n",
    "plt.ylabel('Score')\n",
    "plt.legend()\n",
    "plt.show()"
   ]
  }
 ],
 "metadata": {
  "kernelspec": {
   "display_name": "DataCamp",
   "language": "python",
   "name": "python3"
  },
  "language_info": {
   "codemirror_mode": {
    "name": "ipython",
    "version": 3
   },
   "file_extension": ".py",
   "mimetype": "text/x-python",
   "name": "python",
   "nbconvert_exporter": "python",
   "pygments_lexer": "ipython3",
   "version": "3.12.0"
  }
 },
 "nbformat": 4,
 "nbformat_minor": 2
}
