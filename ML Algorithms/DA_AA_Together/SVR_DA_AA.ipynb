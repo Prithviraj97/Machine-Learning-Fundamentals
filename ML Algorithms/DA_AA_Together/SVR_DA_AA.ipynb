{
 "cells": [
  {
   "cell_type": "code",
   "execution_count": 1,
   "metadata": {},
   "outputs": [
    {
     "name": "stdout",
     "output_type": "stream",
     "text": [
      "<class 'pandas.core.frame.DataFrame'>\n",
      "RangeIndex: 50 entries, 0 to 49\n",
      "Data columns (total 5 columns):\n",
      " #   Column                 Non-Null Count  Dtype  \n",
      "---  ------                 --------------  -----  \n",
      " 0   DA Concentration (uM)  50 non-null     int64  \n",
      " 1   AA Concentration (uM)  50 non-null     int64  \n",
      " 2   Peak Current (uA)      50 non-null     float64\n",
      " 3   Peak Potential (mV)    50 non-null     float64\n",
      " 4   Peak Area (uC)         50 non-null     float64\n",
      "dtypes: float64(3), int64(2)\n",
      "memory usage: 2.1 KB\n"
     ]
    },
    {
     "data": {
      "application/vnd.microsoft.datawrangler.viewer.v0+json": {
       "columns": [
        {
         "name": "index",
         "rawType": "int64",
         "type": "integer"
        },
        {
         "name": "DA Concentration (uM)",
         "rawType": "int64",
         "type": "integer"
        },
        {
         "name": "AA Concentration (uM)",
         "rawType": "int64",
         "type": "integer"
        },
        {
         "name": "Peak Current (uA)",
         "rawType": "float64",
         "type": "float"
        },
        {
         "name": "Peak Potential (mV)",
         "rawType": "float64",
         "type": "float"
        },
        {
         "name": "Peak Area (uC)",
         "rawType": "float64",
         "type": "float"
        }
       ],
       "conversionMethod": "pd.DataFrame",
       "ref": "e509e0e2-820f-4eb9-9061-c935583953a6",
       "rows": [
        [
         "0",
         "0",
         "100",
         "8.763",
         "133.447",
         "40.418"
        ],
        [
         "1",
         "0",
         "150",
         "9.755",
         "147.679",
         "44.194"
        ],
        [
         "2",
         "0",
         "200",
         "14.559",
         "172.276",
         "70.734"
        ],
        [
         "3",
         "0",
         "300",
         "21.614",
         "174.853",
         "112.173"
        ],
        [
         "4",
         "0",
         "400",
         "31.215",
         "164.517",
         "168.123"
        ]
       ],
       "shape": {
        "columns": 5,
        "rows": 5
       }
      },
      "text/html": [
       "<div>\n",
       "<style scoped>\n",
       "    .dataframe tbody tr th:only-of-type {\n",
       "        vertical-align: middle;\n",
       "    }\n",
       "\n",
       "    .dataframe tbody tr th {\n",
       "        vertical-align: top;\n",
       "    }\n",
       "\n",
       "    .dataframe thead th {\n",
       "        text-align: right;\n",
       "    }\n",
       "</style>\n",
       "<table border=\"1\" class=\"dataframe\">\n",
       "  <thead>\n",
       "    <tr style=\"text-align: right;\">\n",
       "      <th></th>\n",
       "      <th>DA Concentration (uM)</th>\n",
       "      <th>AA Concentration (uM)</th>\n",
       "      <th>Peak Current (uA)</th>\n",
       "      <th>Peak Potential (mV)</th>\n",
       "      <th>Peak Area (uC)</th>\n",
       "    </tr>\n",
       "  </thead>\n",
       "  <tbody>\n",
       "    <tr>\n",
       "      <th>0</th>\n",
       "      <td>0</td>\n",
       "      <td>100</td>\n",
       "      <td>8.763</td>\n",
       "      <td>133.447</td>\n",
       "      <td>40.418</td>\n",
       "    </tr>\n",
       "    <tr>\n",
       "      <th>1</th>\n",
       "      <td>0</td>\n",
       "      <td>150</td>\n",
       "      <td>9.755</td>\n",
       "      <td>147.679</td>\n",
       "      <td>44.194</td>\n",
       "    </tr>\n",
       "    <tr>\n",
       "      <th>2</th>\n",
       "      <td>0</td>\n",
       "      <td>200</td>\n",
       "      <td>14.559</td>\n",
       "      <td>172.276</td>\n",
       "      <td>70.734</td>\n",
       "    </tr>\n",
       "    <tr>\n",
       "      <th>3</th>\n",
       "      <td>0</td>\n",
       "      <td>300</td>\n",
       "      <td>21.614</td>\n",
       "      <td>174.853</td>\n",
       "      <td>112.173</td>\n",
       "    </tr>\n",
       "    <tr>\n",
       "      <th>4</th>\n",
       "      <td>0</td>\n",
       "      <td>400</td>\n",
       "      <td>31.215</td>\n",
       "      <td>164.517</td>\n",
       "      <td>168.123</td>\n",
       "    </tr>\n",
       "  </tbody>\n",
       "</table>\n",
       "</div>"
      ],
      "text/plain": [
       "   DA Concentration (uM)  AA Concentration (uM)  Peak Current (uA)  \\\n",
       "0                      0                    100              8.763   \n",
       "1                      0                    150              9.755   \n",
       "2                      0                    200             14.559   \n",
       "3                      0                    300             21.614   \n",
       "4                      0                    400             31.215   \n",
       "\n",
       "   Peak Potential (mV)  Peak Area (uC)  \n",
       "0              133.447          40.418  \n",
       "1              147.679          44.194  \n",
       "2              172.276          70.734  \n",
       "3              174.853         112.173  \n",
       "4              164.517         168.123  "
      ]
     },
     "execution_count": 1,
     "metadata": {},
     "output_type": "execute_result"
    }
   ],
   "source": [
    "import pandas as pd\n",
    "from sklearn.model_selection import train_test_split\n",
    "from sklearn.preprocessing import StandardScaler\n",
    "from sklearn.svm import SVR\n",
    "from sklearn.metrics import mean_squared_error, r2_score\n",
    "import matplotlib.pyplot as plt\n",
    "\n",
    "#load the file and inspect the first few rows\n",
    "filepath = r\"C:\\Users\\Admin\\Machine Learning Fundamentals\\CSV_files\\MachineLearning-Data.xlsx\"\n",
    "data = pd.read_excel(filepath)\n",
    "\n",
    "#drop the empty column\n",
    "data = data.drop(columns=['DA concentration'])\n",
    "data.info()\n",
    "data.head()"
   ]
  },
  {
   "cell_type": "code",
   "execution_count": 3,
   "metadata": {},
   "outputs": [
    {
     "data": {
      "application/vnd.microsoft.datawrangler.viewer.v0+json": {
       "columns": [
        {
         "name": "index",
         "rawType": "int64",
         "type": "integer"
        },
        {
         "name": "Peak Current (uA)",
         "rawType": "float64",
         "type": "float"
        },
        {
         "name": "Peak Potential (mV)",
         "rawType": "float64",
         "type": "float"
        },
        {
         "name": "Peak Area (uC)",
         "rawType": "float64",
         "type": "float"
        }
       ],
       "conversionMethod": "pd.DataFrame",
       "ref": "925deddf-3759-4369-ba89-64d354e10cd1",
       "rows": [
        [
         "0",
         "8.763",
         "133.447",
         "40.418"
        ],
        [
         "1",
         "9.755",
         "147.679",
         "44.194"
        ],
        [
         "2",
         "14.559",
         "172.276",
         "70.734"
        ],
        [
         "3",
         "21.614",
         "174.853",
         "112.173"
        ],
        [
         "4",
         "31.215",
         "164.517",
         "168.123"
        ]
       ],
       "shape": {
        "columns": 3,
        "rows": 5
       }
      },
      "text/html": [
       "<div>\n",
       "<style scoped>\n",
       "    .dataframe tbody tr th:only-of-type {\n",
       "        vertical-align: middle;\n",
       "    }\n",
       "\n",
       "    .dataframe tbody tr th {\n",
       "        vertical-align: top;\n",
       "    }\n",
       "\n",
       "    .dataframe thead th {\n",
       "        text-align: right;\n",
       "    }\n",
       "</style>\n",
       "<table border=\"1\" class=\"dataframe\">\n",
       "  <thead>\n",
       "    <tr style=\"text-align: right;\">\n",
       "      <th></th>\n",
       "      <th>Peak Current (uA)</th>\n",
       "      <th>Peak Potential (mV)</th>\n",
       "      <th>Peak Area (uC)</th>\n",
       "    </tr>\n",
       "  </thead>\n",
       "  <tbody>\n",
       "    <tr>\n",
       "      <th>0</th>\n",
       "      <td>8.763</td>\n",
       "      <td>133.447</td>\n",
       "      <td>40.418</td>\n",
       "    </tr>\n",
       "    <tr>\n",
       "      <th>1</th>\n",
       "      <td>9.755</td>\n",
       "      <td>147.679</td>\n",
       "      <td>44.194</td>\n",
       "    </tr>\n",
       "    <tr>\n",
       "      <th>2</th>\n",
       "      <td>14.559</td>\n",
       "      <td>172.276</td>\n",
       "      <td>70.734</td>\n",
       "    </tr>\n",
       "    <tr>\n",
       "      <th>3</th>\n",
       "      <td>21.614</td>\n",
       "      <td>174.853</td>\n",
       "      <td>112.173</td>\n",
       "    </tr>\n",
       "    <tr>\n",
       "      <th>4</th>\n",
       "      <td>31.215</td>\n",
       "      <td>164.517</td>\n",
       "      <td>168.123</td>\n",
       "    </tr>\n",
       "  </tbody>\n",
       "</table>\n",
       "</div>"
      ],
      "text/plain": [
       "   Peak Current (uA)  Peak Potential (mV)  Peak Area (uC)\n",
       "0              8.763              133.447          40.418\n",
       "1              9.755              147.679          44.194\n",
       "2             14.559              172.276          70.734\n",
       "3             21.614              174.853         112.173\n",
       "4             31.215              164.517         168.123"
      ]
     },
     "execution_count": 3,
     "metadata": {},
     "output_type": "execute_result"
    }
   ],
   "source": [
    "#split the data into features and target\n",
    "X = data.drop(columns=['DA Concentration (uM)','AA Concentration (uM)'])\n",
    "y = data[['DA Concentration (uM)', 'AA Concentration (uM)']]\n",
    "\n",
    "X.head()"
   ]
  },
  {
   "cell_type": "code",
   "execution_count": 4,
   "metadata": {},
   "outputs": [
    {
     "data": {
      "application/vnd.microsoft.datawrangler.viewer.v0+json": {
       "columns": [
        {
         "name": "index",
         "rawType": "int64",
         "type": "integer"
        },
        {
         "name": "DA Concentration (uM)",
         "rawType": "int64",
         "type": "integer"
        },
        {
         "name": "AA Concentration (uM)",
         "rawType": "int64",
         "type": "integer"
        }
       ],
       "conversionMethod": "pd.DataFrame",
       "ref": "7c4b851e-0599-4cd2-9f80-961e17cd026d",
       "rows": [
        [
         "0",
         "0",
         "100"
        ],
        [
         "1",
         "0",
         "150"
        ],
        [
         "2",
         "0",
         "200"
        ],
        [
         "3",
         "0",
         "300"
        ],
        [
         "4",
         "0",
         "400"
        ]
       ],
       "shape": {
        "columns": 2,
        "rows": 5
       }
      },
      "text/html": [
       "<div>\n",
       "<style scoped>\n",
       "    .dataframe tbody tr th:only-of-type {\n",
       "        vertical-align: middle;\n",
       "    }\n",
       "\n",
       "    .dataframe tbody tr th {\n",
       "        vertical-align: top;\n",
       "    }\n",
       "\n",
       "    .dataframe thead th {\n",
       "        text-align: right;\n",
       "    }\n",
       "</style>\n",
       "<table border=\"1\" class=\"dataframe\">\n",
       "  <thead>\n",
       "    <tr style=\"text-align: right;\">\n",
       "      <th></th>\n",
       "      <th>DA Concentration (uM)</th>\n",
       "      <th>AA Concentration (uM)</th>\n",
       "    </tr>\n",
       "  </thead>\n",
       "  <tbody>\n",
       "    <tr>\n",
       "      <th>0</th>\n",
       "      <td>0</td>\n",
       "      <td>100</td>\n",
       "    </tr>\n",
       "    <tr>\n",
       "      <th>1</th>\n",
       "      <td>0</td>\n",
       "      <td>150</td>\n",
       "    </tr>\n",
       "    <tr>\n",
       "      <th>2</th>\n",
       "      <td>0</td>\n",
       "      <td>200</td>\n",
       "    </tr>\n",
       "    <tr>\n",
       "      <th>3</th>\n",
       "      <td>0</td>\n",
       "      <td>300</td>\n",
       "    </tr>\n",
       "    <tr>\n",
       "      <th>4</th>\n",
       "      <td>0</td>\n",
       "      <td>400</td>\n",
       "    </tr>\n",
       "  </tbody>\n",
       "</table>\n",
       "</div>"
      ],
      "text/plain": [
       "   DA Concentration (uM)  AA Concentration (uM)\n",
       "0                      0                    100\n",
       "1                      0                    150\n",
       "2                      0                    200\n",
       "3                      0                    300\n",
       "4                      0                    400"
      ]
     },
     "execution_count": 4,
     "metadata": {},
     "output_type": "execute_result"
    }
   ],
   "source": [
    "y.head()"
   ]
  },
  {
   "cell_type": "code",
   "execution_count": null,
   "metadata": {},
   "outputs": [],
   "source": [
    "# Split the data into training and testing sets\n",
    "X_train, X_test, y_train, y_test = train_test_split(X, y, test_size=0.2, random_state=42)\n",
    "\n",
    "# Standarize the features\n",
    "scaler = StandardScaler()\n",
    "X_train_scaled = scaler.fit_transform(X_train)\n",
    "X_test_scaled = scaler.transform(X_test)"
   ]
  }
 ],
 "metadata": {
  "kernelspec": {
   "display_name": "DataCamp",
   "language": "python",
   "name": "python3"
  },
  "language_info": {
   "codemirror_mode": {
    "name": "ipython",
    "version": 3
   },
   "file_extension": ".py",
   "mimetype": "text/x-python",
   "name": "python",
   "nbconvert_exporter": "python",
   "pygments_lexer": "ipython3",
   "version": "3.12.0"
  }
 },
 "nbformat": 4,
 "nbformat_minor": 2
}
