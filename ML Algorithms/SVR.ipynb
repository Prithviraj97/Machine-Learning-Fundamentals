{
 "cells": [
  {
   "cell_type": "code",
   "execution_count": 6,
   "metadata": {},
   "outputs": [
    {
     "name": "stdout",
     "output_type": "stream",
     "text": [
      "<class 'pandas.core.frame.DataFrame'>\n",
      "RangeIndex: 48 entries, 0 to 47\n",
      "Data columns (total 5 columns):\n",
      " #   Column                 Non-Null Count  Dtype  \n",
      "---  ------                 --------------  -----  \n",
      " 0   DA Concentration (uM)  48 non-null     int64  \n",
      " 1   AA Concentration (uM)  48 non-null     int64  \n",
      " 2   Peak Current (uA)      48 non-null     float64\n",
      " 3   Peak Potential (mV)    48 non-null     float64\n",
      " 4   Peak Area (uC)         48 non-null     float64\n",
      "dtypes: float64(3), int64(2)\n",
      "memory usage: 2.0 KB\n",
      "None\n"
     ]
    },
    {
     "data": {
      "application/vnd.microsoft.datawrangler.viewer.v0+json": {
       "columns": [
        {
         "name": "index",
         "rawType": "int64",
         "type": "integer"
        },
        {
         "name": "DA Concentration (uM)",
         "rawType": "int64",
         "type": "integer"
        },
        {
         "name": "AA Concentration (uM)",
         "rawType": "int64",
         "type": "integer"
        },
        {
         "name": "Peak Current (uA)",
         "rawType": "float64",
         "type": "float"
        },
        {
         "name": "Peak Potential (mV)",
         "rawType": "float64",
         "type": "float"
        },
        {
         "name": "Peak Area (uC)",
         "rawType": "float64",
         "type": "float"
        }
       ],
       "conversionMethod": "pd.DataFrame",
       "ref": "c47ccf1b-e205-47e4-acb6-13bde8fbfce7",
       "rows": [
        [
         "0",
         "0",
         "0",
         "0.0",
         "0.0",
         "0.0"
        ],
        [
         "1",
         "10",
         "0",
         "2.333",
         "34.772",
         "3.916"
        ],
        [
         "2",
         "15",
         "0",
         "3.09",
         "41.093",
         "5.268"
        ],
        [
         "3",
         "25",
         "0",
         "5.199",
         "47.659",
         "8.317"
        ],
        [
         "4",
         "50",
         "0",
         "8.123",
         "60.585",
         "16.01"
        ]
       ],
       "shape": {
        "columns": 5,
        "rows": 5
       }
      },
      "text/html": [
       "<div>\n",
       "<style scoped>\n",
       "    .dataframe tbody tr th:only-of-type {\n",
       "        vertical-align: middle;\n",
       "    }\n",
       "\n",
       "    .dataframe tbody tr th {\n",
       "        vertical-align: top;\n",
       "    }\n",
       "\n",
       "    .dataframe thead th {\n",
       "        text-align: right;\n",
       "    }\n",
       "</style>\n",
       "<table border=\"1\" class=\"dataframe\">\n",
       "  <thead>\n",
       "    <tr style=\"text-align: right;\">\n",
       "      <th></th>\n",
       "      <th>DA Concentration (uM)</th>\n",
       "      <th>AA Concentration (uM)</th>\n",
       "      <th>Peak Current (uA)</th>\n",
       "      <th>Peak Potential (mV)</th>\n",
       "      <th>Peak Area (uC)</th>\n",
       "    </tr>\n",
       "  </thead>\n",
       "  <tbody>\n",
       "    <tr>\n",
       "      <th>0</th>\n",
       "      <td>0</td>\n",
       "      <td>0</td>\n",
       "      <td>0.000</td>\n",
       "      <td>0.000</td>\n",
       "      <td>0.000</td>\n",
       "    </tr>\n",
       "    <tr>\n",
       "      <th>1</th>\n",
       "      <td>10</td>\n",
       "      <td>0</td>\n",
       "      <td>2.333</td>\n",
       "      <td>34.772</td>\n",
       "      <td>3.916</td>\n",
       "    </tr>\n",
       "    <tr>\n",
       "      <th>2</th>\n",
       "      <td>15</td>\n",
       "      <td>0</td>\n",
       "      <td>3.090</td>\n",
       "      <td>41.093</td>\n",
       "      <td>5.268</td>\n",
       "    </tr>\n",
       "    <tr>\n",
       "      <th>3</th>\n",
       "      <td>25</td>\n",
       "      <td>0</td>\n",
       "      <td>5.199</td>\n",
       "      <td>47.659</td>\n",
       "      <td>8.317</td>\n",
       "    </tr>\n",
       "    <tr>\n",
       "      <th>4</th>\n",
       "      <td>50</td>\n",
       "      <td>0</td>\n",
       "      <td>8.123</td>\n",
       "      <td>60.585</td>\n",
       "      <td>16.010</td>\n",
       "    </tr>\n",
       "  </tbody>\n",
       "</table>\n",
       "</div>"
      ],
      "text/plain": [
       "   DA Concentration (uM)  AA Concentration (uM)  Peak Current (uA)  \\\n",
       "0                      0                      0              0.000   \n",
       "1                     10                      0              2.333   \n",
       "2                     15                      0              3.090   \n",
       "3                     25                      0              5.199   \n",
       "4                     50                      0              8.123   \n",
       "\n",
       "   Peak Potential (mV)  Peak Area (uC)  \n",
       "0                0.000           0.000  \n",
       "1               34.772           3.916  \n",
       "2               41.093           5.268  \n",
       "3               47.659           8.317  \n",
       "4               60.585          16.010  "
      ]
     },
     "execution_count": 6,
     "metadata": {},
     "output_type": "execute_result"
    }
   ],
   "source": [
    "import pandas as pd\n",
    "from sklearn.model_selection import train_test_split\n",
    "from sklearn.preprocessing import StandardScaler\n",
    "\n",
    "# Load the data\n",
    "file_path = r\"C:\\Users\\Admin\\Machine Learning Fundamentals\\CSV_files\\MLData.xlsx\"\n",
    "data = pd.read_excel(file_path)\n",
    "\n",
    "#drop the column 'DA_Concentration' because it is null\n",
    "data = data.drop(columns=['DA concentration'])\n",
    "\n",
    "#show the information of the data\n",
    "print(data.info())\n",
    "data.head()"
   ]
  },
  {
   "cell_type": "code",
   "execution_count": 9,
   "metadata": {},
   "outputs": [],
   "source": [
    "# Split the data into features and target. our target is 'DA concentration' and rest are features variables\n",
    "X = data.drop(columns=['DA Concentration (uM)'])\n",
    "y = data['DA Concentration (uM)']\n",
    "\n",
    "#split the data into training and testing data\n",
    "X_train, X_test, y_train, y_test = train_test_split(X, y, test_size=0.2, random_state=42)"
   ]
  },
  {
   "cell_type": "code",
   "execution_count": 16,
   "metadata": {},
   "outputs": [
    {
     "data": {
      "application/vnd.microsoft.datawrangler.viewer.v0+json": {
       "columns": [
        {
         "name": "index",
         "rawType": "int64",
         "type": "integer"
        },
        {
         "name": "AA Concentration (uM)",
         "rawType": "int64",
         "type": "integer"
        },
        {
         "name": "Peak Current (uA)",
         "rawType": "float64",
         "type": "float"
        },
        {
         "name": "Peak Potential (mV)",
         "rawType": "float64",
         "type": "float"
        },
        {
         "name": "Peak Area (uC)",
         "rawType": "float64",
         "type": "float"
        }
       ],
       "conversionMethod": "pd.DataFrame",
       "ref": "e8ad809f-ad54-427f-bde4-d44dc0dc7ac4",
       "rows": [
        [
         "8",
         "0",
         "42.424",
         "130.687",
         "184.784"
        ],
        [
         "3",
         "0",
         "5.199",
         "47.659",
         "8.317"
        ],
        [
         "6",
         "0",
         "31.943",
         "99.526",
         "82.745"
        ],
        [
         "39",
         "400",
         "71.864",
         "283.396",
         "350.589"
        ],
        [
         "33",
         "100",
         "36.05",
         "185.557",
         "105.851"
        ]
       ],
       "shape": {
        "columns": 4,
        "rows": 5
       }
      },
      "text/html": [
       "<div>\n",
       "<style scoped>\n",
       "    .dataframe tbody tr th:only-of-type {\n",
       "        vertical-align: middle;\n",
       "    }\n",
       "\n",
       "    .dataframe tbody tr th {\n",
       "        vertical-align: top;\n",
       "    }\n",
       "\n",
       "    .dataframe thead th {\n",
       "        text-align: right;\n",
       "    }\n",
       "</style>\n",
       "<table border=\"1\" class=\"dataframe\">\n",
       "  <thead>\n",
       "    <tr style=\"text-align: right;\">\n",
       "      <th></th>\n",
       "      <th>AA Concentration (uM)</th>\n",
       "      <th>Peak Current (uA)</th>\n",
       "      <th>Peak Potential (mV)</th>\n",
       "      <th>Peak Area (uC)</th>\n",
       "    </tr>\n",
       "  </thead>\n",
       "  <tbody>\n",
       "    <tr>\n",
       "      <th>8</th>\n",
       "      <td>0</td>\n",
       "      <td>42.424</td>\n",
       "      <td>130.687</td>\n",
       "      <td>184.784</td>\n",
       "    </tr>\n",
       "    <tr>\n",
       "      <th>3</th>\n",
       "      <td>0</td>\n",
       "      <td>5.199</td>\n",
       "      <td>47.659</td>\n",
       "      <td>8.317</td>\n",
       "    </tr>\n",
       "    <tr>\n",
       "      <th>6</th>\n",
       "      <td>0</td>\n",
       "      <td>31.943</td>\n",
       "      <td>99.526</td>\n",
       "      <td>82.745</td>\n",
       "    </tr>\n",
       "    <tr>\n",
       "      <th>39</th>\n",
       "      <td>400</td>\n",
       "      <td>71.864</td>\n",
       "      <td>283.396</td>\n",
       "      <td>350.589</td>\n",
       "    </tr>\n",
       "    <tr>\n",
       "      <th>33</th>\n",
       "      <td>100</td>\n",
       "      <td>36.050</td>\n",
       "      <td>185.557</td>\n",
       "      <td>105.851</td>\n",
       "    </tr>\n",
       "  </tbody>\n",
       "</table>\n",
       "</div>"
      ],
      "text/plain": [
       "    AA Concentration (uM)  Peak Current (uA)  Peak Potential (mV)  \\\n",
       "8                       0             42.424              130.687   \n",
       "3                       0              5.199               47.659   \n",
       "6                       0             31.943               99.526   \n",
       "39                    400             71.864              283.396   \n",
       "33                    100             36.050              185.557   \n",
       "\n",
       "    Peak Area (uC)  \n",
       "8          184.784  \n",
       "3            8.317  \n",
       "6           82.745  \n",
       "39         350.589  \n",
       "33         105.851  "
      ]
     },
     "execution_count": 16,
     "metadata": {},
     "output_type": "execute_result"
    }
   ],
   "source": [
    "X_train.head()"
   ]
  },
  {
   "cell_type": "code",
   "execution_count": 20,
   "metadata": {},
   "outputs": [
    {
     "data": {
      "text/plain": [
       "8     300\n",
       "3      25\n",
       "6     150\n",
       "39    400\n",
       "33    100\n",
       "Name: DA Concentration (uM), dtype: int64"
      ]
     },
     "execution_count": 20,
     "metadata": {},
     "output_type": "execute_result"
    }
   ],
   "source": [
    "y_train.head()"
   ]
  },
  {
   "cell_type": "code",
   "execution_count": 21,
   "metadata": {},
   "outputs": [
    {
     "data": {
      "application/vnd.microsoft.datawrangler.viewer.v0+json": {
       "columns": [
        {
         "name": "index",
         "rawType": "int64",
         "type": "integer"
        },
        {
         "name": "AA Concentration (uM)",
         "rawType": "int64",
         "type": "integer"
        },
        {
         "name": "Peak Current (uA)",
         "rawType": "float64",
         "type": "float"
        },
        {
         "name": "Peak Potential (mV)",
         "rawType": "float64",
         "type": "float"
        },
        {
         "name": "Peak Area (uC)",
         "rawType": "float64",
         "type": "float"
        }
       ],
       "conversionMethod": "pd.DataFrame",
       "ref": "cea41ff6-c026-4c45-b19c-30f36772b124",
       "rows": [
        [
         "27",
         "1250",
         "84.476",
         "262.203",
         "637.726"
        ],
        [
         "40",
         "400",
         "99.239",
         "230.949",
         "374.676"
        ],
        [
         "26",
         "1000",
         "72.979",
         "243.831",
         "559.234"
        ],
        [
         "43",
         "100",
         "18.468",
         "135.564",
         "55.792"
        ],
        [
         "24",
         "800",
         "60.587",
         "238.648",
         "434.062"
        ]
       ],
       "shape": {
        "columns": 4,
        "rows": 5
       }
      },
      "text/html": [
       "<div>\n",
       "<style scoped>\n",
       "    .dataframe tbody tr th:only-of-type {\n",
       "        vertical-align: middle;\n",
       "    }\n",
       "\n",
       "    .dataframe tbody tr th {\n",
       "        vertical-align: top;\n",
       "    }\n",
       "\n",
       "    .dataframe thead th {\n",
       "        text-align: right;\n",
       "    }\n",
       "</style>\n",
       "<table border=\"1\" class=\"dataframe\">\n",
       "  <thead>\n",
       "    <tr style=\"text-align: right;\">\n",
       "      <th></th>\n",
       "      <th>AA Concentration (uM)</th>\n",
       "      <th>Peak Current (uA)</th>\n",
       "      <th>Peak Potential (mV)</th>\n",
       "      <th>Peak Area (uC)</th>\n",
       "    </tr>\n",
       "  </thead>\n",
       "  <tbody>\n",
       "    <tr>\n",
       "      <th>27</th>\n",
       "      <td>1250</td>\n",
       "      <td>84.476</td>\n",
       "      <td>262.203</td>\n",
       "      <td>637.726</td>\n",
       "    </tr>\n",
       "    <tr>\n",
       "      <th>40</th>\n",
       "      <td>400</td>\n",
       "      <td>99.239</td>\n",
       "      <td>230.949</td>\n",
       "      <td>374.676</td>\n",
       "    </tr>\n",
       "    <tr>\n",
       "      <th>26</th>\n",
       "      <td>1000</td>\n",
       "      <td>72.979</td>\n",
       "      <td>243.831</td>\n",
       "      <td>559.234</td>\n",
       "    </tr>\n",
       "    <tr>\n",
       "      <th>43</th>\n",
       "      <td>100</td>\n",
       "      <td>18.468</td>\n",
       "      <td>135.564</td>\n",
       "      <td>55.792</td>\n",
       "    </tr>\n",
       "    <tr>\n",
       "      <th>24</th>\n",
       "      <td>800</td>\n",
       "      <td>60.587</td>\n",
       "      <td>238.648</td>\n",
       "      <td>434.062</td>\n",
       "    </tr>\n",
       "  </tbody>\n",
       "</table>\n",
       "</div>"
      ],
      "text/plain": [
       "    AA Concentration (uM)  Peak Current (uA)  Peak Potential (mV)  \\\n",
       "27                   1250             84.476              262.203   \n",
       "40                    400             99.239              230.949   \n",
       "26                   1000             72.979              243.831   \n",
       "43                    100             18.468              135.564   \n",
       "24                    800             60.587              238.648   \n",
       "\n",
       "    Peak Area (uC)  \n",
       "27         637.726  \n",
       "40         374.676  \n",
       "26         559.234  \n",
       "43          55.792  \n",
       "24         434.062  "
      ]
     },
     "execution_count": 21,
     "metadata": {},
     "output_type": "execute_result"
    }
   ],
   "source": [
    "X_test.head()"
   ]
  },
  {
   "cell_type": "code",
   "execution_count": 10,
   "metadata": {},
   "outputs": [
    {
     "data": {
      "text/plain": [
       "(array([[-0.6162947 , -0.23973094, -0.52649663, -0.32835968],\n",
       "        [-0.6162947 , -1.11854929, -1.51454202, -0.80578977],\n",
       "        [-0.6162947 , -0.48716935, -0.8973171 , -0.6044254 ],\n",
       "        [ 0.01135551,  0.45529693,  1.29076289,  0.12022446],\n",
       "        [-0.45938214, -0.39021013,  0.12646443, -0.5419123 ]]),\n",
       " 8     300\n",
       " 3      25\n",
       " 6     150\n",
       " 39    400\n",
       " 33    100\n",
       " Name: DA Concentration (uM), dtype: int64)"
      ]
     },
     "execution_count": 10,
     "metadata": {},
     "output_type": "execute_result"
    }
   ],
   "source": [
    "# Standardize (normalize) the features using StandardScaler\n",
    "scaler = StandardScaler()\n",
    "X_train_scaled = scaler.fit_transform(X_train)\n",
    "X_test_scaled = scaler.transform(X_test)\n",
    "\n",
    "# Display the scaled training features and the target values\n",
    "X_train_scaled[:5], y_train[:5]"
   ]
  },
  {
   "cell_type": "code",
   "execution_count": 13,
   "metadata": {},
   "outputs": [
    {
     "name": "stdout",
     "output_type": "stream",
     "text": [
      "Mean Squared Error: 19680.00342537516\n",
      "R^2 Score: 0.6920187257374779\n",
      "Predicted values: [ 89.44667003 289.96453785 109.9787499   36.56651381  89.87610307]\n",
      "Actual values: [  0 600   0  50   0]\n"
     ]
    }
   ],
   "source": [
    "from sklearn.svm import SVR\n",
    "from sklearn.metrics import mean_squared_error, r2_score\n",
    "\n",
    "# Initialize the SVR model with RBF kernel (you can experiment with other kernels like 'linear' or 'poly')\n",
    "svr_model = SVR(kernel='rbf', C=100, gamma=1, epsilon=1)\n",
    "\n",
    "# run the SVR model on the training data\n",
    "svr_model.fit(X_train_scaled, y_train)\n",
    "\n",
    "# Make predictions on the test set\n",
    "y_pred = svr_model.predict(X_test_scaled)\n",
    "\n",
    "# error/loss calculation\n",
    "mse = mean_squared_error(y_test, y_pred)\n",
    "r2 = r2_score(y_test, y_pred)\n",
    "\n",
    "print(f\"Mean Squared Error: {mse}\")\n",
    "print(f\"R^2 Score: {r2}\")\n",
    "\n",
    "print(f\"Predicted values: {y_pred[:5]}\")\n",
    "print(f\"Actual values: {y_test[:5].values}\")\n"
   ]
  },
  {
   "cell_type": "code",
   "execution_count": 12,
   "metadata": {},
   "outputs": [
    {
     "name": "stdout",
     "output_type": "stream",
     "text": [
      "Best hyperparameters: {'C': 100, 'epsilon': 1, 'gamma': 1, 'kernel': 'rbf'}\n"
     ]
    }
   ],
   "source": [
    "from sklearn.model_selection import GridSearchCV\n",
    "from sklearn.svm import SVR\n",
    "\n",
    "# Define the hyperparameter grid\n",
    "param_grid = {\n",
    "    'C': [0.1, 1, 10, 100],\n",
    "    'gamma': ['scale', 'auto', 0.001, 0.01, 0.1, 1],\n",
    "    'epsilon': [0.01, 0.1, 1],\n",
    "    'kernel': ['rbf', 'poly']\n",
    "}\n",
    "\n",
    "# Initialize the SVR model\n",
    "svr = SVR()\n",
    "\n",
    "# Perform grid search with cross-validation\n",
    "grid_search = GridSearchCV(svr, param_grid, cv=5, scoring='r2')\n",
    "grid_search.fit(X_train_scaled, y_train)\n",
    "\n",
    "# Print the best parameters\n",
    "print(f\"Best hyperparameters: {grid_search.best_params_}\")\n",
    "\n",
    "# Predict using the best estimator\n",
    "best_svr = grid_search.best_estimator_\n",
    "y_pred = best_svr.predict(X_test_scaled)\n"
   ]
  },
  {
   "cell_type": "code",
   "execution_count": 19,
   "metadata": {},
   "outputs": [
    {
     "data": {
      "image/png": "[encoded data removed]",
      "text/plain": [
       "<Figure size 640x480 with 1 Axes>"
      ]
     },
     "metadata": {},
     "output_type": "display_data"
    }
   ],
   "source": [
    "from sklearn.model_selection import learning_curve\n",
    "import matplotlib.pyplot as plt\n",
    "\n",
    "train_sizes, train_scores, val_scores = learning_curve(best_svr, X_train_scaled, y_train, cv=5)\n",
    "\n",
    "plt.plot(train_sizes, train_scores.mean(axis=1), label='Training Score')\n",
    "plt.plot(train_sizes, val_scores.mean(axis=1), label='Validation Score')\n",
    "plt.xlabel('Training examples')\n",
    "plt.ylabel('Score')\n",
    "plt.legend()\n",
    "plt.show()\n"
   ]
  },
  {
   "cell_type": "code",
   "execution_count": null,
   "metadata": {},
   "outputs": [],
   "source": [
    "from sklearn.model_selection import cross_val_score\n"
   ]
  }
 ],
 "metadata": {
  "kernelspec": {
   "display_name": "DataCamp",
   "language": "python",
   "name": "python3"
  },
  "language_info": {
   "codemirror_mode": {
    "name": "ipython",
    "version": 3
   },
   "file_extension": ".py",
   "mimetype": "text/x-python",
   "name": "python",
   "nbconvert_exporter": "python",
   "pygments_lexer": "ipython3",
   "version": "3.12.0"
  }
 },
 "nbformat": 4,
 "nbformat_minor": 2
}
